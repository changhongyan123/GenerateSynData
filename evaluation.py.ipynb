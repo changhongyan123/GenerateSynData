{
 "cells": [
  {
   "cell_type": "code",
   "execution_count": 1,
   "metadata": {},
   "outputs": [],
   "source": [
    "import pandas as pd\n",
    "import numpy as np\n"
   ]
  },
  {
   "cell_type": "code",
   "execution_count": 59,
   "metadata": {},
   "outputs": [],
   "source": [
    "def statistic_error(clean_data,target_data):\n",
    "    \n",
    "    c_mean =  clean_data.mean().values \n",
    "    s_mean = target_data.mean().values\n",
    "    if s_mean.shape[0] > c_mean.shape[0]:\n",
    "        s_mean = s_mean[1:]\n",
    "    mean_diff = c_mean - s_mean\n",
    "    return np.sum(mean_diff*mean_diff)"
   ]
  },
  {
   "cell_type": "code",
   "execution_count": 66,
   "metadata": {},
   "outputs": [],
   "source": [
    "clean_data = pd.read_csv('data/dataset',header=None)\n"
   ]
  },
  {
   "cell_type": "code",
   "execution_count": 75,
   "metadata": {},
   "outputs": [],
   "source": [
    "s_data = pd.read_csv('data/result_10_laplace.csv')"
   ]
  },
  {
   "cell_type": "code",
   "execution_count": 61,
   "metadata": {},
   "outputs": [],
   "source": [
    "c_data = clean_data.sample(n=1000,  random_state=2)"
   ]
  },
  {
   "cell_type": "code",
   "execution_count": 268,
   "metadata": {},
   "outputs": [],
   "source": [
    "clean_cen = np.load('data/clean_data.npy')"
   ]
  },
  {
   "cell_type": "code",
   "execution_count": 216,
   "metadata": {},
   "outputs": [],
   "source": [
    "from sklearn.datasets.samples_generator import make_blobs\n",
    "\n",
    "x,y = make_blobs(n_samples=1000, centers=cen_1, n_features=100,random_state=0)\n",
    "\n",
    "data = np.where(x > 0.5, 1, 0)\n",
    "data = pd.DataFrame(data,columns=range(600))\n",
    "kmeans = KMeans(n_clusters=100, random_state=0).fit(data)\n",
    "data_cen = kmeans.cluster_centers_\n",
    "for i in range(100):\n",
    "    cost[i] = np.sum(( data_cen[i]-cen_1)*( data_cen[i]-cen_1),axis=1)"
   ]
  },
  {
   "cell_type": "code",
   "execution_count": 298,
   "metadata": {},
   "outputs": [],
   "source": [
    "from scipy.optimize import linear_sum_assignment\n",
    "file_list = ['data/result_3_laplace.csv','data/result_10_laplace.csv','data/result_no_noise.csv','data/random_clean_data.csv']\n",
    "file_name_list = ['laplace 3','laplace 10','no noise','random selected']"
   ]
  },
  {
   "cell_type": "code",
   "execution_count": 299,
   "metadata": {},
   "outputs": [
    {
     "name": "stdout",
     "output_type": "stream",
     "text": [
      "laplace 3\n",
      "mean error: 0.515384\n",
      "k means error: 3822.433219\n",
      "laplace 10\n",
      "mean error: 0.136427\n",
      "k means error: 3746.092007\n",
      "no noise\n",
      "mean error: 0.100738\n",
      "k means error: 3674.622055\n",
      "random selected\n",
      "mean error: 0.116522\n",
      "k means error: 3576.025918\n"
     ]
    }
   ],
   "source": [
    "for i in range(len(file_list)):\n",
    "    file = file_list[i]\n",
    "    file_name = file_name_list[i]\n",
    "    data = pd.read_csv(file)\n",
    "    data = data.drop(['Unnamed: 0'],axis=1)\n",
    "\n",
    "    kmeans = KMeans(n_clusters=100, random_state=0).fit(data)\n",
    "    data_cen = kmeans.cluster_centers_\n",
    "    cost = np.zeros((100,100))\n",
    "    mean_score = statistic_error(clean_data,data)\n",
    "    for i in range(100):\n",
    "        cost[i] = np.sum(( data_cen[i]-clean_cen)*( data_cen[i]-clean_cen),axis=1)\n",
    "        row_ind, col_ind = linear_sum_assignment(cost)\n",
    "        k_score = cost[row_ind, col_ind].sum()\n",
    "    print(file_name)\n",
    "    print('mean error: %.6f' %mean_score)\n",
    "    print('k means error: %.6f' %k_score)"
   ]
  },
  {
   "cell_type": "code",
   "execution_count": null,
   "metadata": {},
   "outputs": [],
   "source": []
  }
 ],
 "metadata": {
  "kernelspec": {
   "display_name": "Python (CS5242_3.6)",
   "language": "python",
   "name": "cs5242_3.6"
  },
  "language_info": {
   "codemirror_mode": {
    "name": "ipython",
    "version": 3
   },
   "file_extension": ".py",
   "mimetype": "text/x-python",
   "name": "python",
   "nbconvert_exporter": "python",
   "pygments_lexer": "ipython3",
   "version": "3.6.7"
  }
 },
 "nbformat": 4,
 "nbformat_minor": 2
}
